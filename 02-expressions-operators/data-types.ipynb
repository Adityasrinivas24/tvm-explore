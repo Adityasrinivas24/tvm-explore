{
 "cells": [
  {
   "cell_type": "markdown",
   "metadata": {},
   "source": [
    "## Extending Vector Add to Other DataTypes"
   ]
  },
  {
   "cell_type": "code",
   "execution_count": 1,
   "metadata": {},
   "outputs": [],
   "source": [
    "import tvm\n",
    "from tvm import te\n",
    "import numpy as np\n",
    "n = 100\n",
    "\n",
    "def vector_add(dtype):\n",
    "    A = te.placeholder((n,), dtype= dtype)\n",
    "    B = te.placeholder((n,), dtype = dtype)\n",
    "\n",
    "    C = te.compute(A.shape, lambda i: A[i]+ B[i])\n",
    "\n",
    "    print(\"Expression DataType:\", A.dtype, B.dtype, C.dtype)\n",
    "    s = te.create_schedule(C.op)\n",
    "\n",
    "    return tvm.build(s,[A,B,C])\n",
    "\n",
    "    \n"
   ]
  },
  {
   "cell_type": "code",
   "execution_count": 2,
   "metadata": {},
   "outputs": [
    {
     "name": "stdout",
     "output_type": "stream",
     "text": [
      "Expression DataType: int32 int32 int32\n"
     ]
    }
   ],
   "source": [
    "mod = vector_add('int32')"
   ]
  },
  {
   "cell_type": "code",
   "execution_count": 4,
   "metadata": {},
   "outputs": [
    {
     "name": "stdout",
     "output_type": "stream",
     "text": [
      "Expression DataType: float16 float16 float16\n",
      "Expression DataType: float64 float64 float64\n",
      "Expression DataType: int8 int8 int8\n",
      "Expression DataType: int16 int16 int16\n",
      "Expression DataType: int64 int64 int64\n"
     ]
    }
   ],
   "source": [
    "for dtype in ['float16', 'float64', 'int8', 'int16', 'int64']:\n",
    "\n",
    "    mod = vector_add(dtype=dtype)\n",
    " "
   ]
  },
  {
   "cell_type": "code",
   "execution_count": 7,
   "metadata": {},
   "outputs": [],
   "source": [
    "def vector_add_typecast(dtype):\n",
    "    A = te.placeholder((n,), dtype= dtype)\n",
    "    B = te.placeholder((n,), dtype = dtype)\n",
    "\n",
    "    C = te.compute(A.shape, lambda i: A[i].astype(dtype)+ B[i].astype(dtype))\n",
    "\n",
    "    print(\"Expression DataType:\", A.dtype, B.dtype, C.dtype)\n",
    "    s = te.create_schedule(C.op)\n",
    "\n",
    "    return tvm.build(s,[A,B,C])"
   ]
  },
  {
   "cell_type": "code",
   "execution_count": 9,
   "metadata": {},
   "outputs": [
    {
     "name": "stdout",
     "output_type": "stream",
     "text": [
      "Expression DataType: int64 int64 int64\n"
     ]
    }
   ],
   "source": [
    "mod2 = vector_add_typecast(\"int64\")"
   ]
  }
 ],
 "metadata": {
  "kernelspec": {
   "display_name": "tvm-env",
   "language": "python",
   "name": "python3"
  },
  "language_info": {
   "codemirror_mode": {
    "name": "ipython",
    "version": 3
   },
   "file_extension": ".py",
   "mimetype": "text/x-python",
   "name": "python",
   "nbconvert_exporter": "python",
   "pygments_lexer": "ipython3",
   "version": "3.11.10"
  }
 },
 "nbformat": 4,
 "nbformat_minor": 2
}
