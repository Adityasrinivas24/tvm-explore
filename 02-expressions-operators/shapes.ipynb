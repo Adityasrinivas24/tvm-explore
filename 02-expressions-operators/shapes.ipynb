{
 "cells": [
  {
   "cell_type": "code",
   "execution_count": null,
   "metadata": {},
   "outputs": [],
   "source": [
    "import tvm \n",
    "from tvm import te\n",
    "import numpy as np\n",
    "\n",
    "\n",
    "n = te.var(name = 'n')\n"
   ]
  }
 ],
 "metadata": {
  "kernelspec": {
   "display_name": "tvm-env",
   "language": "python",
   "name": "python3"
  },
  "language_info": {
   "name": "python",
   "version": "3.11.10"
  }
 },
 "nbformat": 4,
 "nbformat_minor": 2
}
