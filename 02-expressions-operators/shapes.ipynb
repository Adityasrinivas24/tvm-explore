{
 "cells": [
  {
   "cell_type": "markdown",
   "metadata": {},
   "source": [
    "## Shape "
   ]
  },
  {
   "cell_type": "code",
   "execution_count": 1,
   "metadata": {},
   "outputs": [
    {
     "name": "stderr",
     "output_type": "stream",
     "text": [
      "[13:21:34] /home/aditya/Downloads/tvm/src/target/llvm/llvm_instance.cc:226: Error: Using LLVM 19.1.3 with `-mcpu=apple-latest` is not valid in `-mtriple=arm64-apple-macos`, using default `-mcpu=generic`\n",
      "[13:21:34] /home/aditya/Downloads/tvm/src/target/llvm/llvm_instance.cc:226: Error: Using LLVM 19.1.3 with `-mcpu=apple-latest` is not valid in `-mtriple=arm64-apple-macos`, using default `-mcpu=generic`\n",
      "[13:21:34] /home/aditya/Downloads/tvm/src/target/llvm/llvm_instance.cc:226: Error: Using LLVM 19.1.3 with `-mcpu=apple-latest` is not valid in `-mtriple=arm64-apple-macos`, using default `-mcpu=generic`\n"
     ]
    },
    {
     "data": {
      "text/plain": [
       "tvm.tir.expr.Var"
      ]
     },
     "execution_count": 1,
     "metadata": {},
     "output_type": "execute_result"
    }
   ],
   "source": [
    "import tvm \n",
    "from tvm import te\n",
    "import numpy as np\n",
    "\n",
    "\n",
    "n = te.var(name = 'n')\n",
    "type(n)\n"
   ]
  },
  {
   "cell_type": "markdown",
   "metadata": {},
   "source": [
    "A New Shape can be a tuple (m,n) and can be acccessed using the indices i, j. these shapes can be computed using expressions and operators."
   ]
  },
  {
   "cell_type": "code",
   "execution_count": 2,
   "metadata": {},
   "outputs": [
    {
     "data": {
      "text/plain": [
       "# from tvm.script import ir as I\n",
       "# from tvm.script import tir as T\n",
       "\n",
       "@I.ir_module\n",
       "class Module:\n",
       "    @T.prim_func\n",
       "    def Matrix Transpose(A: T.handle, B: T.handle):\n",
       "        T.func_attr({\"from_legacy_te_schedule\": T.bool(True), \"tir.noalias\": T.bool(True)})\n",
       "        n, m = T.int32(), T.int32()\n",
       "        A_1 = T.match_buffer(A, (n, m), strides=(\"stride\", \"stride\"), buffer_type=\"auto\")\n",
       "        B_1 = T.match_buffer(B, (m, n), strides=(\"stride\", \"stride\"), buffer_type=\"auto\")\n",
       "        for i, j in T.grid(m, n):\n",
       "            B_2 = T.Buffer((B_1.strides[0] * m,), data=B_1.data, buffer_type=\"auto\")\n",
       "            A_2 = T.Buffer((A_1.strides[0] * n,), data=A_1.data, buffer_type=\"auto\")\n",
       "            B_2[i * B_1.strides[0] + j * B_1.strides[1]] = A_2[j * A_1.strides[0] + i * A_1.strides[1]]"
      ]
     },
     "execution_count": 2,
     "metadata": {},
     "output_type": "execute_result"
    }
   ],
   "source": [
    "# Matrix Transpose\n",
    "\n",
    "n = te.var('n')\n",
    "m = te.var('m')\n",
    "\n",
    "A = te.placeholder((n,m), name= \"A\")\n",
    "B = te.compute((m,n), lambda i,j : A[j,i], name= \"B\")\n",
    "\n",
    "te_schedule = te.create_schedule(B.op)\n",
    "\n",
    "tvm.lower(te_schedule, [A,B], name = \"Matrix Transpose\")\n"
   ]
  },
  {
   "cell_type": "code",
   "execution_count": 5,
   "metadata": {},
   "outputs": [
    {
     "name": "stdout",
     "output_type": "stream",
     "text": [
      "[[ 0.  1.  2.  3.]\n",
      " [ 4.  5.  6.  7.]\n",
      " [ 8.  9. 10. 11.]\n",
      " [12. 13. 14. 15.]]\n",
      "[[ 0.  4.  8. 12.]\n",
      " [ 1.  5.  9. 13.]\n",
      " [ 2.  6. 10. 14.]\n",
      " [ 3.  7. 11. 15.]]\n"
     ]
    }
   ],
   "source": [
    "a = np.arange(16,dtype='float32').reshape((4,4))\n",
    "b = np.empty((4,4), dtype = 'float32')\n",
    "\n",
    "a,b = tvm.nd.array(a), tvm.nd.array(b)\n",
    "\n",
    "mod = tvm.build(te_schedule,[A,B])\n",
    "\n",
    "mod(a,b)\n",
    "\n",
    "print(a)\n",
    "print(b)\n",
    "\n",
    "\n"
   ]
  },
  {
   "cell_type": "code",
   "execution_count": null,
   "metadata": {},
   "outputs": [],
   "source": []
  }
 ],
 "metadata": {
  "kernelspec": {
   "display_name": "tvm-env",
   "language": "python",
   "name": "python3"
  },
  "language_info": {
   "codemirror_mode": {
    "name": "ipython",
    "version": 3
   },
   "file_extension": ".py",
   "mimetype": "text/x-python",
   "name": "python",
   "nbconvert_exporter": "python",
   "pygments_lexer": "ipython3",
   "version": "3.11.10"
  }
 },
 "nbformat": 4,
 "nbformat_minor": 2
}
