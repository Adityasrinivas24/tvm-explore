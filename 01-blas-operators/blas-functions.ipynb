{
 "cells": [
  {
   "cell_type": "code",
   "execution_count": 1,
   "metadata": {},
   "outputs": [
    {
     "name": "stderr",
     "output_type": "stream",
     "text": [
      "[11:41:01] /home/aditya/Downloads/tvm/src/target/llvm/llvm_instance.cc:226: Error: Using LLVM 19.1.3 with `-mcpu=apple-latest` is not valid in `-mtriple=arm64-apple-macos`, using default `-mcpu=generic`\n",
      "[11:41:01] /home/aditya/Downloads/tvm/src/target/llvm/llvm_instance.cc:226: Error: Using LLVM 19.1.3 with `-mcpu=apple-latest` is not valid in `-mtriple=arm64-apple-macos`, using default `-mcpu=generic`\n",
      "[11:41:01] /home/aditya/Downloads/tvm/src/target/llvm/llvm_instance.cc:226: Error: Using LLVM 19.1.3 with `-mcpu=apple-latest` is not valid in `-mtriple=arm64-apple-macos`, using default `-mcpu=generic`\n"
     ]
    }
   ],
   "source": [
    "import numpy as np\n",
    "import tvm\n",
    "from tvm import te\n",
    "from matplotlib import pyplot as plt"
   ]
  },
  {
   "cell_type": "markdown",
   "metadata": {},
   "source": [
    "## Simple MatMul"
   ]
  },
  {
   "cell_type": "code",
   "execution_count": null,
   "metadata": {},
   "outputs": [],
   "source": [
    "M = 1024\n",
    "K = 1024\n",
    "N = 1024\n",
    "\n",
    "A = te.placeholder((M,K),name='A')\n",
    "B = te.placeholder((K,N),name='B')\n",
    "\n",
    "k = te.reduce_axis((0,K), name = 'k')\n",
    "\n",
    "comp = te.compute((M,N), lambda i, j: te.sum(A[i,k] * B[k,j], axis= k), name = \"C\")\n"
   ]
  },
  {
   "cell_type": "markdown",
   "metadata": {},
   "source": [
    "## Default Schedule without any optimizations"
   ]
  },
  {
   "cell_type": "code",
   "execution_count": 10,
   "metadata": {},
   "outputs": [
    {
     "name": "stdout",
     "output_type": "stream",
     "text": [
      "# from tvm.script import ir as I\n",
      "# from tvm.script import tir as T\n",
      "\n",
      "@I.ir_module\n",
      "class Module:\n",
      "    @T.prim_func\n",
      "    def main(A: T.Buffer((1024, 1024), \"float32\"), B: T.Buffer((1024, 1024), \"float32\"), C: T.Buffer((1024, 1024), \"float32\")):\n",
      "        T.func_attr({\"from_legacy_te_schedule\": T.bool(True), \"tir.noalias\": T.bool(True)})\n",
      "        for i, j in T.grid(1024, 1024):\n",
      "            C_1 = T.Buffer((1048576,), data=C.data)\n",
      "            C_1[i * 1024 + j] = T.float32(0.0)\n",
      "            for k in range(1024):\n",
      "                cse_var_2: T.int32 = i * 1024\n",
      "                cse_var_1: T.int32 = cse_var_2 + j\n",
      "                A_1 = T.Buffer((1048576,), data=A.data)\n",
      "                B_1 = T.Buffer((1048576,), data=B.data)\n",
      "                C_1[cse_var_1] = C_1[cse_var_1] + A_1[cse_var_2 + k] * B_1[k * 1024 + j]\n"
     ]
    }
   ],
   "source": [
    "\n",
    "# Create the new TensorIR schedule\n",
    "te_schedule = te.create_schedule(comp.op)\n",
    "\n",
    "# tile_x, tile_y = 32,32\n",
    "\n",
    "# x, y = te_schedule[comp].op.axis\n",
    "# xo,xi = te_schedule[comp].split(x,factor = tile_x)\n",
    "# yo,yi = te_schedule[comp].split(y,factor = tile_y)\n",
    "\n",
    "# te_schedule[comp].reorder(xo,yo,xi,yi)\n",
    "\n",
    "# Lower TE schedule into TIR (creates a PrimFunc/IRModule)\n",
    "prim_func = tvm.lower(te_schedule, [A, B, comp], name=\"main\")\n",
    "\n",
    "# Now create a TensorIR schedule\n",
    "tir_schedule = tvm.tir.Schedule(prim_func)\n",
    "\n",
    "# Print the lowered TIR\n",
    "print(tir_schedule.mod.script())\n"
   ]
  },
  {
   "cell_type": "code",
   "execution_count": null,
   "metadata": {},
   "outputs": [
    {
     "name": "stdout",
     "output_type": "stream",
     "text": [
      "None\n"
     ]
    }
   ],
   "source": [
    "default_func = tvm.build(te_schedule, [A, B, comp], target='llvm -mcpu=core-avx2', name='conv')\n",
    "# timer = default_func.time_evaluator(default_func.entry_name, tvm.cpu(0), min_repeat_ms=100)\n",
    "\n",
    "# data arrays for inputs and outputs to the function\n",
    "a = tvm.nd.array(np.random.rand(M, K).astype(\"float32\"))\n",
    "b = tvm.nd.array(np.random.rand(K, N).astype(\"float32\"))\n",
    "c = tvm.nd.array(np.zeros((M,N),dtype = \"float32\"))\n",
    "\n",
    "default_func(a,b,c)\n",
    "\n",
    "# time the execution of the function\n",
    "# res_default = timer(a, b, c)\n",
    "# print(\"MatMul with default schedule finished in:\", res_default.mean, \"seconds\")\n",
    "     "
   ]
  },
  {
   "cell_type": "markdown",
   "metadata": {},
   "source": [
    "e.g. conv2d,\n",
    "conv2d_transpose, group_conv2d, fc)"
   ]
  }
 ],
 "metadata": {
  "kernelspec": {
   "display_name": "tvm-env",
   "language": "python",
   "name": "python3"
  },
  "language_info": {
   "codemirror_mode": {
    "name": "ipython",
    "version": 3
   },
   "file_extension": ".py",
   "mimetype": "text/x-python",
   "name": "python",
   "nbconvert_exporter": "python",
   "pygments_lexer": "ipython3",
   "version": "3.11.10"
  }
 },
 "nbformat": 4,
 "nbformat_minor": 2
}
