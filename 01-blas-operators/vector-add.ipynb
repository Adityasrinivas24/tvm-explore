{
 "cells": [
  {
   "cell_type": "markdown",
   "metadata": {},
   "source": [
    "## Vector Add in Numpy"
   ]
  },
  {
   "cell_type": "code",
   "execution_count": null,
   "metadata": {},
   "outputs": [],
   "source": [
    "import numpy as np\n",
    "\n",
    "np.random.seed(0)\n",
    "\n",
    "n = 100\n",
    "a = np.random.normal(size = n).astype(np.float32)\n",
    "b = np.random.normal(size = n).astype(np.float32)\n",
    "\n",
    "\n",
    "c = a+b\n",
    "\n",
    "\n",
    "def vector_add(a,b,c):\n",
    "    for i in range(n):\n",
    "        c[i] = a[i]+b[i]\n",
    "\n",
    "d = np.empty(shape= n, dtype = np.float32)\n",
    "vector_add(a,b,d)\n",
    "\n",
    "np.testing.assert_array_equal(c,d)"
   ]
  },
  {
   "cell_type": "markdown",
   "metadata": {},
   "source": [
    "## Vector Add in TVM using TE"
   ]
  },
  {
   "cell_type": "code",
   "execution_count": 3,
   "metadata": {},
   "outputs": [
    {
     "data": {
      "text/plain": [
       "(tvm.te.tensor.Tensor, tvm.te.tensor.Tensor)"
      ]
     },
     "execution_count": 3,
     "metadata": {},
     "output_type": "execute_result"
    }
   ],
   "source": [
    "import tvm\n",
    "import tvm.te as te\n",
    "\n",
    "def vector_add(n):\n",
    "    A = te.placeholder((n,), name = \"a\")\n",
    "    B = te.placeholder((n,), name = \"b\")\n",
    "\n",
    "    C = te.compute(A.shape, lambda i:A[i]+B[i], name = \"C\")\n",
    "\n",
    "    return A,B,C\n",
    "\n",
    "a,b,c = vector_add(100)\n",
    "\n",
    "type(a), type(c)\n",
    "\n"
   ]
  },
  {
   "cell_type": "markdown",
   "metadata": {},
   "source": [
    "## Create a Schedule to run the computation"
   ]
  },
  {
   "cell_type": "code",
   "execution_count": 4,
   "metadata": {},
   "outputs": [],
   "source": [
    "c_schedule = te.create_schedule(c.op)"
   ]
  },
  {
   "cell_type": "code",
   "execution_count": null,
   "metadata": {},
   "outputs": [
    {
     "data": {
      "text/plain": [
       "# from tvm.script import ir as I\n",
       "# from tvm.script import tir as T\n",
       "\n",
       "@I.ir_module\n",
       "class Module:\n",
       "    @T.prim_func\n",
       "    def VectorAdd(a: T.Buffer((100,), \"float32\"), b: T.Buffer((100,), \"float32\"), C: T.Buffer((100,), \"float32\")):\n",
       "        T.func_attr({\"from_legacy_te_schedule\": T.bool(True), \"tir.noalias\": T.bool(True)})\n",
       "        for i in range(100):\n",
       "            C[i] = a[i] + b[i]"
      ]
     },
     "execution_count": 5,
     "metadata": {},
     "output_type": "execute_result"
    }
   ],
   "source": [
    "# Lower the Schedule to TIR\n",
    "\n",
    "tvm.lower(c_schedule,[a,b,c], name = \"VectorAdd\")\n"
   ]
  },
  {
   "cell_type": "code",
   "execution_count": null,
   "metadata": {},
   "outputs": [
    {
     "data": {
      "text/plain": [
       "tvm.driver.build_module.OperatorModule"
      ]
     },
     "execution_count": 10,
     "metadata": {},
     "output_type": "execute_result"
    }
   ],
   "source": [
    "mod = tvm.build(c_schedule,[a,b,c], target= \"llvm\", name= \"VectorAddBuild\")\n",
    "\n",
    "\n",
    "type(mod)"
   ]
  }
 ],
 "metadata": {
  "kernelspec": {
   "display_name": "tvm-env",
   "language": "python",
   "name": "python3"
  },
  "language_info": {
   "codemirror_mode": {
    "name": "ipython",
    "version": 3
   },
   "file_extension": ".py",
   "mimetype": "text/x-python",
   "name": "python",
   "nbconvert_exporter": "python",
   "pygments_lexer": "ipython3",
   "version": "3.11.10"
  }
 },
 "nbformat": 4,
 "nbformat_minor": 2
}
