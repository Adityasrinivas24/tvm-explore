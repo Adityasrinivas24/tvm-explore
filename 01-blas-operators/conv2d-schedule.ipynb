{
 "cells": [
  {
   "cell_type": "code",
   "execution_count": null,
   "metadata": {},
   "outputs": [
    {
     "name": "stderr",
     "output_type": "stream",
     "text": [
      "[00:22:10] /home/aditya/Downloads/tvm/src/target/llvm/llvm_instance.cc:226: Error: Using LLVM 19.1.3 with `-mcpu=apple-latest` is not valid in `-mtriple=arm64-apple-macos`, using default `-mcpu=generic`\n",
      "[00:22:10] /home/aditya/Downloads/tvm/src/target/llvm/llvm_instance.cc:226: Error: Using LLVM 19.1.3 with `-mcpu=apple-latest` is not valid in `-mtriple=arm64-apple-macos`, using default `-mcpu=generic`\n",
      "[00:22:10] /home/aditya/Downloads/tvm/src/target/llvm/llvm_instance.cc:226: Error: Using LLVM 19.1.3 with `-mcpu=apple-latest` is not valid in `-mtriple=arm64-apple-macos`, using default `-mcpu=generic`\n"
     ]
    }
   ],
   "source": [
    "import numpy as np\n",
    "import tvm\n",
    "from tvm import te\n",
    "from matplotlib import pyplot as plt"
   ]
  },
  {
   "cell_type": "code",
   "execution_count": null,
   "metadata": {},
   "outputs": [],
   "source": [
    "input_channels = 64\n",
    "output_channels = 64\n",
    "kernel_size = 3\n",
    "input_height = 56\n",
    "input_width = 56\n",
    "padding = (1,1)\n",
    "\n",
    "output_height = (input_height + 2*padding[0] - kernel_size + 1)\n",
    "output_width = (input_width + 2*padding[1] - kernel_size + 1)\n",
    "\n",
    "# We define the input in H, W, C (height, width, channels) layout\n",
    "input_shape = (input_height+2*padding[0], input_width+2*padding[1], input_channels)\n",
    "# We define the kernel weights in H, W, I, O (kernel height, kernel width, input\n",
    "# channel, output channel) layout\n",
    "weight_shape = (kernel_size, kernel_size, input_channels, output_channels)\n",
    "# We define the output in H, W, C (height, width, channels) layout\n",
    "output_shape = (output_height, output_width, output_channels)\n",
    "     "
   ]
  },
  {
   "cell_type": "code",
   "execution_count": null,
   "metadata": {},
   "outputs": [],
   "source": [
    "input_placeholder = tvm.te.placeholder(input_shape,name= 'data')\n",
    "weight_placeholder = tvm.te.placeholder(weight_shape, name = \"weight\")\n",
    "\n",
    "rc = tvm.te.reduce_axis((0,input_channels), name = 'rc')\n",
    "ry = tvm.te.reduce_axis((0,kernel_size), name = 'ry')\n",
    "rx = tvm.te.reduce_axis((0,kernel_size), name = 'rx')\n",
    "\n",
    "comp = te.compute(\n",
    "    (output_height, output_width, output_channels),\n",
    "    lambda output_y, output_x, output_channel:\n",
    "    te.sum(\n",
    "        input_placeholder[output_y + ry, output_x + rx, rc] *\n",
    "        weight_placeholder[ry, rx, rc, output_channel],\n",
    "        axis=[ry, rx, rc]\n",
    "    ),\n",
    "    name=\"conv2d\"\n",
    ")\n"
   ]
  },
  {
   "cell_type": "markdown",
   "metadata": {},
   "source": [
    "## Default Schedule without any optimizations"
   ]
  },
  {
   "cell_type": "code",
   "execution_count": 16,
   "metadata": {},
   "outputs": [
    {
     "name": "stdout",
     "output_type": "stream",
     "text": [
      "# from tvm.script import ir as I\n",
      "# from tvm.script import tir as T\n",
      "\n",
      "@I.ir_module\n",
      "class Module:\n",
      "    @T.prim_func\n",
      "    def main(data: T.Buffer((58, 58, 64), \"float32\"), weight: T.Buffer((3, 3, 64, 64), \"float32\"), conv2d: T.Buffer((56, 56, 64), \"float32\")):\n",
      "        T.func_attr({\"from_legacy_te_schedule\": T.bool(True), \"tir.noalias\": T.bool(True)})\n",
      "        for output_y, output_x, output_channel in T.grid(56, 56, 64):\n",
      "            conv2d_1 = T.Buffer((200704,), data=conv2d.data)\n",
      "            conv2d_1[output_y * 3584 + output_x * 64 + output_channel] = T.float32(0.0)\n",
      "            for ry, rx, rc in T.grid(3, 3, 64):\n",
      "                cse_var_2: T.int32 = output_x * 64\n",
      "                cse_var_1: T.int32 = output_y * 3584 + cse_var_2 + output_channel\n",
      "                data_1 = T.Buffer((215296,), data=data.data)\n",
      "                weight_1 = T.Buffer((36864,), data=weight.data)\n",
      "                conv2d_1[cse_var_1] = conv2d_1[cse_var_1] + data_1[output_y * 3712 + ry * 3712 + cse_var_2 + rx * 64 + rc] * weight_1[ry * 12288 + rx * 4096 + rc * 64 + output_channel]\n"
     ]
    }
   ],
   "source": [
    "\n",
    "# Create the new TensorIR schedule\n",
    "te_schedule = te.create_schedule(comp.op)\n",
    "\n",
    "# Lower TE schedule into TIR (creates a PrimFunc/IRModule)\n",
    "prim_func = tvm.lower(te_schedule, [input_placeholder, weight_placeholder, comp], name=\"main\")\n",
    "\n",
    "# Now create a TensorIR schedule\n",
    "tir_schedule = tvm.tir.Schedule(prim_func)\n",
    "\n",
    "# Print the lowered TIR\n",
    "print(tir_schedule.mod.script())\n"
   ]
  },
  {
   "cell_type": "code",
   "execution_count": 28,
   "metadata": {},
   "outputs": [
    {
     "name": "stdout",
     "output_type": "stream",
     "text": [
      "Conv2D with default schedule finished in: 0.003269360151515152 seconds\n"
     ]
    }
   ],
   "source": [
    "default_func = tvm.build(te_schedule, [input_placeholder, weight_placeholder, comp], target='llvm -mcpu=core-avx2', name='conv')\n",
    "timer = default_func.time_evaluator(default_func.entry_name, tvm.cpu(0), min_repeat_ms=100)\n",
    "\n",
    "# data arrays for inputs and outputs to the function\n",
    "data = np.random.random(input_shape).astype('float32')\n",
    "weight = np.random.random(weight_shape).astype('float32')\n",
    "data_tvm = tvm.nd.array(data)\n",
    "weight_tvm = tvm.nd.array(weight)\n",
    "output_tvm = tvm.nd.array(np.empty(output_shape).astype('float32'))\n",
    "# time the execution of the function\n",
    "res_default = timer(data_tvm, weight_tvm, output_tvm)\n",
    "print(\"Conv2D with default schedule finished in:\", res_default.mean, \"seconds\")\n",
    "     "
   ]
  },
  {
   "cell_type": "markdown",
   "metadata": {},
   "source": [
    "## Reordered Scedule with Convolution Optimised"
   ]
  },
  {
   "cell_type": "code",
   "execution_count": 22,
   "metadata": {},
   "outputs": [
    {
     "name": "stdout",
     "output_type": "stream",
     "text": [
      "# from tvm.script import ir as I\n",
      "# from tvm.script import tir as T\n",
      "\n",
      "@I.ir_module\n",
      "class Module:\n",
      "    @T.prim_func\n",
      "    def conv_sched(data: T.Buffer((58, 58, 64), \"float32\"), weight: T.Buffer((3, 3, 64, 64), \"float32\"), conv2d: T.Buffer((56, 56, 64), \"float32\")):\n",
      "        T.func_attr({\"from_legacy_te_schedule\": T.bool(True), \"tir.noalias\": T.bool(True)})\n",
      "        conv2d_1 = T.Buffer((200704,), data=conv2d.data)\n",
      "        for output_y_init, output_x_init in T.grid(56, 56):\n",
      "            conv2d_1[output_y_init * 3584 + output_x_init * 64:output_y_init * 3584 + output_x_init * 64 + 64] = T.Broadcast(T.float32(0.0), 64)\n",
      "        for rx, ry, output_y, output_x, rc in T.grid(3, 3, 56, 56, 64):\n",
      "            cse_var_2: T.int32 = output_x * 64\n",
      "            cse_var_1: T.int32 = output_y * 3584 + cse_var_2\n",
      "            data_1 = T.Buffer((215296,), data=data.data)\n",
      "            weight_1 = T.Buffer((36864,), data=weight.data)\n",
      "            conv2d_1[cse_var_1:cse_var_1 + 64] = conv2d_1[cse_var_1:cse_var_1 + 64] + T.Broadcast(data_1[output_y * 3712 + ry * 3712 + cse_var_2 + rx * 64 + rc], 64) * weight_1[ry * 12288 + rx * 4096 + rc * 64:ry * 12288 + rx * 4096 + rc * 64 + 64]\n"
     ]
    }
   ],
   "source": [
    "yo, xo, co = comp.op.axis\n",
    "ry, rx, rc = te_schedule[comp].op.reduce_axis\n",
    "te_schedule[comp].reorder(rx, ry, yo, xo, rc, co)\n",
    "\n",
    "conv_prim_func = tvm.lower(te_schedule, [input_placeholder, weight_placeholder, comp], name=\"conv_sched\")\n",
    "\n",
    "conv_tir_sched = tvm.tir.Schedule(conv_prim_func)\n",
    "\n",
    "print(conv_tir_sched.mod.script())\n"
   ]
  },
  {
   "cell_type": "code",
   "execution_count": 26,
   "metadata": {},
   "outputs": [
    {
     "name": "stdout",
     "output_type": "stream",
     "text": [
      "Conv2D with reordered schedule finished in: 0.00349604790625 seconds\n"
     ]
    }
   ],
   "source": [
    "reordered_func = tvm.build(te_schedule, [input_placeholder, weight_placeholder, comp], target='llvm -mcpu=core-avx2', name='conv')\n",
    "timer = reordered_func.time_evaluator(reordered_func.entry_name, tvm.cpu(0), min_repeat_ms=100)\n",
    "res_reorder = timer(data_tvm, weight_tvm, output_tvm)\n",
    "print(\"Conv2D with reordered schedule finished in:\", res_reorder.mean, \"seconds\")"
   ]
  },
  {
   "cell_type": "markdown",
   "metadata": {},
   "source": [
    "## Vectorized and Reordered Schedule"
   ]
  },
  {
   "cell_type": "code",
   "execution_count": 29,
   "metadata": {},
   "outputs": [
    {
     "name": "stdout",
     "output_type": "stream",
     "text": [
      "Conv2D with reordered and vectorized schedule finished in: 0.0031304327500000003 seconds\n"
     ]
    }
   ],
   "source": [
    "te_schedule[comp].vectorize(co)\n",
    "\n",
    "vectorize_conv_prim_func = tvm.lower(te_schedule, [input_placeholder, weight_placeholder, comp], name=\"conv_sched_vectorize\")\n",
    "\n",
    "reordered_parallel_func = tvm.build(te_schedule, [input_placeholder, weight_placeholder, comp], target='llvm -mcpu=core-avx2', name='conv')\n",
    "timer = reordered_parallel_func.time_evaluator(reordered_parallel_func.entry_name, tvm.cpu(0), min_repeat_ms=100)\n",
    "res_vectorize = timer(data_tvm, weight_tvm, output_tvm)\n",
    "print(\"Conv2D with reordered and vectorized schedule finished in:\", res_vectorize.mean, \"seconds\")"
   ]
  },
  {
   "cell_type": "code",
   "execution_count": 30,
   "metadata": {},
   "outputs": [
    {
     "data": {
      "text/plain": [
       "([<matplotlib.axis.YTick at 0x7ad40b3b7710>,\n",
       "  <matplotlib.axis.YTick at 0x7ad40b49eb10>,\n",
       "  <matplotlib.axis.YTick at 0x7ad40b48bc90>],\n",
       " [Text(0, 0, 'default'),\n",
       "  Text(0, 1, '+reorder'),\n",
       "  Text(0, 2, '+reorder,vectorize')])"
      ]
     },
     "execution_count": 30,
     "metadata": {},
     "output_type": "execute_result"
    },
    {
     "data": {
      "image/png": "[encoded data removed]",
      "text/plain": [
       "<Figure size 640x480 with 1 Axes>"
      ]
     },
     "metadata": {},
     "output_type": "display_data"
    }
   ],
   "source": [
    "res = [res_default.mean, res_reorder.mean, res_vectorize.mean]\n",
    "y_pos = np.arange(len(res))\n",
    "plt.xlabel('runtime (s)')\n",
    "labels = ['default', '+reorder', '+reorder,vectorize']\n",
    "\n",
    "plt.barh(y_pos, res)\n",
    "plt.yticks(y_pos, labels)"
   ]
  }
 ],
 "metadata": {
  "kernelspec": {
   "display_name": "tvm-env",
   "language": "python",
   "name": "python3"
  },
  "language_info": {
   "codemirror_mode": {
    "name": "ipython",
    "version": 3
   },
   "file_extension": ".py",
   "mimetype": "text/x-python",
   "name": "python",
   "nbconvert_exporter": "python",
   "pygments_lexer": "ipython3",
   "version": "3.11.10"
  }
 },
 "nbformat": 4,
 "nbformat_minor": 2
}
